{
 "cells": [
  {
   "cell_type": "markdown",
   "metadata": {},
   "source": [
    "# 第11章 TensorBoard可视化\n",
    "前面的章节已经介绍了如何使用TensorFlow实现常用的神经网络结构。在将这些神经网络用于实际问题之前，需要先优化神经网络中的参数。这就是训练神经网络的过程。训练神经网络十分复杂，有时需要几天甚至几周的时间。**为了更好地管理、调试和优化神经网络的训练过程，TensorFlow提供了一个可视化工具TensorBoard。TensorBoard可以有效地展示TensorFlow在运行过程中的计算图、各种指标随着时间的变化趋势以及训练中使用到的图像等信息。**\n",
    "\n",
    "## 11.1 TensorBoard简介\n",
    "TensorBoard是TensorFlow的可视化工具，它可以通过TensorFlow程序运行过程中输出的日志文件可视化TensorFlow程序的运行状态。**TensorBoard和TensorFlow程序跑在不同的进程中，TensorBoard会自动读取最新的TensorFlow日志文件，并呈现当前TensorFlow程序运行的最新状态**。以下代码展示了一个简单TensorFlow程序，在这个程序中完成了TensorBoard日志输出的功能："
   ]
  },
  {
   "cell_type": "code",
   "execution_count": 1,
   "metadata": {},
   "outputs": [],
   "source": [
    "import tensorflow as tf\n",
    "\n",
    "# 定义一个简单的计算图，实现向量加法的操作\n",
    "input1 = tf.constant([1.0, 2.0, 3.0], name='input1')\n",
    "input2 = tf.Variable(tf.random_uniform([3]), name='input2')\n",
    "output = tf.add_n([input1, input2], name='add')\n",
    "\n",
    "# 生成一个写日志的Writer，并将当前的TensorFlow计算图写入日志\n",
    "# TensorFlow提供了很多种写日志文件的API，11.3节会详细介绍\n",
    "writer = tf.summary.FileWriter(\"log/simple_example.log\", tf.get_default_graph())\n",
    "writer.close()"
   ]
  },
  {
   "cell_type": "markdown",
   "metadata": {},
   "source": [
    "以上程序输出了TensorFlow计算图的信息，所以运行TensorBoard时，可以看到这个向量相加程序计算图可视化之后的结果。TensorBoard不需要额外的安装过程，\n",
    "TensorFlow安装完成时，TensorBoard会自动安装。运行以下命令便可以启动TensorBoard:\n",
    "\n",
    "`\n",
    "tensorboard --logdir=log/simple_example.log\n",
    "`\n",
    "\n",
    "运行以上命令会启动一个服务，这个服务的端口默认为**6006**。通过浏览器打开localhost:6006，可以看到图11.1所示的界面。在界面的上方，展示的内容是“GRAPHS”，表示图中可视化的内容是TensorFlow的计算图。如图11.1所示，打开TensorBoard界面会默认进入GRAPHS界面，在该界面中可以看到上面程序TensorFlow计算图的可视化结果（11.2节将详细介绍如何理解TensorFlow计算图的可视化结果中提供的信息）。\n",
    "<p align='center'>\n",
    "    <img src=images/图11.1.JPG>\n",
    "    <center>图11-1 TensorBoard可视化向量相加程序的TensorFlow计算图结果</center>\n",
    "    <img src=images/图11.2.JPG>\n",
    "    <center>图11-2 TensorBoard可视化内容选项</center>\n",
    "\n",
    "</p>\n",
    "\n",
    "在图11.1的上方有一个“INACTIVE＂选项，点开这个选项可以看到TensorBoard能够可视化的其他内容。**“INACTIVE”选项中列出的是当前没有可视化数据的项目。图11.2展示了使用上面代码得到的可视化结果中INACTIVE选项中的内容**。从图11.2中可以看出，**除了可视化TensorFlow计算图之外， TensorBoard还提供了SCALARS、IMAGES、AUDIO、DISTRIBUTIONS、HISTOGRAMS、PROJECTOR、TEXT和PROFILE项目**。TensorBoard中每一栏都对应了一类信息的可视化结果，在下面的章节中将具体介绍每一栏的功能。"
   ]
  }
 ],
 "metadata": {
  "kernelspec": {
   "display_name": "Python 3",
   "language": "python",
   "name": "python3"
  },
  "language_info": {
   "codemirror_mode": {
    "name": "ipython",
    "version": 3
   },
   "file_extension": ".py",
   "mimetype": "text/x-python",
   "name": "python",
   "nbconvert_exporter": "python",
   "pygments_lexer": "ipython3",
   "version": "3.6.4"
  }
 },
 "nbformat": 4,
 "nbformat_minor": 1
}
